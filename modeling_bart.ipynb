{
 "cells": [
  {
   "cell_type": "markdown",
   "metadata": {},
   "source": [
    "## Imports"
   ]
  },
  {
   "cell_type": "code",
   "execution_count": 2,
   "metadata": {},
   "outputs": [],
   "source": [
    "from datasets import load_dataset\n",
    "from transformers import BartTokenizer\n",
    "from transformers import BartForConditionalGeneration, Trainer, TrainingArguments, BartTokenizer\n",
    "import torch"
   ]
  },
  {
   "cell_type": "markdown",
   "metadata": {},
   "source": [
    "### A. Load Dataset\n"
   ]
  },
  {
   "cell_type": "code",
   "execution_count": null,
   "metadata": {},
   "outputs": [],
   "source": [
    "dataset = load_dataset(\"csv\", data_files=\"data_prepared.csv\")\n",
    "train_test = dataset[\"train\"].train_test_split(test_size=0.2)\n",
    "train_data = train_test[\"train\"]\n",
    "test_data = train_test[\"test\"]"
   ]
  },
  {
   "cell_type": "markdown",
   "metadata": {},
   "source": [
    "### B. Tokenize Data\n"
   ]
  },
  {
   "cell_type": "code",
   "execution_count": null,
   "metadata": {},
   "outputs": [],
   "source": [
    "tokenizer = BartTokenizer.from_pretrained(\"facebook/bart-base\")\n",
    "\n",
    "def tokenize_function(examples):\n",
    "    inputs = tokenizer(\n",
    "        examples[\"input\"],\n",
    "        max_length=128,\n",
    "        truncation=True,\n",
    "        padding=\"max_length\"\n",
    "    )\n",
    "    outputs = tokenizer(\n",
    "        examples[\"output\"],\n",
    "        max_length=128,\n",
    "        truncation=True,\n",
    "        padding=\"max_length\"\n",
    "    )\n",
    "    return {\n",
    "        \"input_ids\": inputs[\"input_ids\"],\n",
    "        \"attention_mask\": inputs[\"attention_mask\"],\n",
    "        \"labels\": outputs[\"input_ids\"]\n",
    "    }\n",
    "\n",
    "tokenized_train = train_data.map(tokenize_function, batched=True)\n",
    "tokenized_test = test_data.map(tokenize_function, batched=True)"
   ]
  },
  {
   "cell_type": "markdown",
   "metadata": {},
   "source": [
    "### C. Fine-Tune Bart"
   ]
  },
  {
   "cell_type": "code",
   "execution_count": null,
   "metadata": {},
   "outputs": [],
   "source": [
    "model = BartForConditionalGeneration.from_pretrained(\"facebook/bart-base\")\n",
    "\n",
    "training_args = TrainingArguments(\n",
    "    output_dir=\"./bart-product-description\",\n",
    "    per_device_train_batch_size=4,\n",
    "    num_train_epochs=3,\n",
    "    save_steps=10_000,\n",
    "    save_total_limit=2,\n",
    "    logging_dir=\"./logs\",\n",
    "    logging_steps=100,\n",
    "    eval_strategy=\"steps\",  # Changed from evaluation_strategy\n",
    "    eval_steps=500,\n",
    ")\n",
    "\n",
    "trainer = Trainer(\n",
    "    model=model,\n",
    "    args=training_args,\n",
    "    train_dataset=tokenized_train,\n",
    "    eval_dataset=tokenized_test,\n",
    ")\n",
    "\n",
    "trainer.train()"
   ]
  },
  {
   "cell_type": "markdown",
   "metadata": {},
   "source": [
    "### Step 4: Generate Descriptions"
   ]
  },
  {
   "cell_type": "code",
   "execution_count": null,
   "metadata": {},
   "outputs": [],
   "source": [
    "def generate_description(input_text):\n",
    "    inputs = tokenizer(input_text, return_tensors=\"pt\",\n",
    "                       max_length=128, truncation=True)\n",
    "    outputs = model.generate(**inputs, max_length=128)\n",
    "    return tokenizer.decode(outputs[0], skip_special_tokens=True)\n",
    "\n",
    "\n",
    "# Example\n",
    "input_text = \"Style: Industrial | Material: Metal | Color: Gray | Dimensions: 30L x 20W x 15H\"\n",
    "print(generate_description(input_text))"
   ]
  },
  {
   "cell_type": "markdown",
   "metadata": {},
   "source": [
    "### Step 5: Save model"
   ]
  },
  {
   "cell_type": "code",
   "execution_count": null,
   "metadata": {},
   "outputs": [],
   "source": [
    "# Save model\n",
    "model.save_pretrained(\"./fine-tuned-bart\")\n",
    "tokenizer.save_pretrained(\"./fine-tuned-bart\")\n",
    "\n",
    "# Load later\n",
    "model = BartForConditionalGeneration.from_pretrained(\"./fine-tuned-bart\")\n",
    "tokenizer = BartTokenizer.from_pretrained(\"./fine-tuned-bart\")"
   ]
  },
  {
   "cell_type": "code",
   "execution_count": null,
   "metadata": {},
   "outputs": [],
   "source": [
    "# Load your fine-tuned model and tokenizer\n",
    "model = BartForConditionalGeneration.from_pretrained(\"./fine-tuned-bart\")\n",
    "tokenizer = BartTokenizer.from_pretrained(\"./fine-tuned-bart\")\n",
    "\n",
    "\n",
    "def generate_product_description(input_features, max_length=128, num_beams=4):\n",
    "    \"\"\"\n",
    "    Generate product description from input features\n",
    "    \n",
    "    Args:\n",
    "        input_features (str): Product features in format \"Style:...|Material:...|Color:...\"\n",
    "        max_length (int): Maximum length of generated description\n",
    "        num_beams (int): Number of beams for beam search (higher=better quality but slower)\n",
    "    \n",
    "    Returns:\n",
    "        str: Generated product description\n",
    "    \"\"\"\n",
    "    # Prepare input text\n",
    "    input_text = f\"Generate product description: {input_features}\"\n",
    "\n",
    "    # Tokenize inputs\n",
    "    inputs = tokenizer(\n",
    "        input_text,\n",
    "        max_length=max_length,\n",
    "        truncation=True,\n",
    "        return_tensors=\"pt\"\n",
    "    )\n",
    "\n",
    "    # Generate description\n",
    "    with torch.no_grad():\n",
    "        outputs = model.generate(\n",
    "            input_ids=inputs[\"input_ids\"],\n",
    "            attention_mask=inputs[\"attention_mask\"],\n",
    "            max_length=max_length,\n",
    "            num_beams=num_beams,\n",
    "            early_stopping=True,\n",
    "            no_repeat_ngram_size=2  # Prevent word repetition\n",
    "        )\n",
    "\n",
    "    # Decode and clean output\n",
    "    description = tokenizer.decode(outputs[0], skip_special_tokens=True)\n",
    "\n",
    "    # Post-processing\n",
    "    description = description.replace(\"Product Description:\", \"\").strip()\n",
    "    description = description.capitalize()\n",
    "\n",
    "    return description\n",
    "\n",
    "\n",
    "# Example usage\n",
    "input_features = \"Style: Industrial | Material: Metal | Color: Gray | Dimensions: 30L x 20W x 15H | Features: Rust-proof, Wall-mounted\"\n",
    "generated_description = generate_product_description(input_features)\n",
    "\n",
    "print(\"Input Features:\")\n",
    "print(input_features)\n",
    "print(\"\\nGenerated Description:\")\n",
    "print(generated_description)"
   ]
  }
 ],
 "metadata": {
  "kernelspec": {
   "display_name": "env",
   "language": "python",
   "name": "python3"
  },
  "language_info": {
   "codemirror_mode": {
    "name": "ipython",
    "version": 3
   },
   "file_extension": ".py",
   "mimetype": "text/x-python",
   "name": "python",
   "nbconvert_exporter": "python",
   "pygments_lexer": "ipython3",
   "version": "3.12.4"
  }
 },
 "nbformat": 4,
 "nbformat_minor": 2
}

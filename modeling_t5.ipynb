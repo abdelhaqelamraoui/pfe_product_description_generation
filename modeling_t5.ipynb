{
 "cells": [
  {
   "cell_type": "markdown",
   "metadata": {},
   "source": [
    "### Imports"
   ]
  },
  {
   "cell_type": "code",
   "execution_count": 1,
   "metadata": {},
   "outputs": [],
   "source": [
    "import pandas as pd\n",
    "import numpy as np\n",
    "import matplotlib.pyplot as plt\n",
    "import seaborn as sns\n",
    "import missingno as msno\n",
    "from datasets import load_dataset"
   ]
  },
  {
   "cell_type": "markdown",
   "metadata": {},
   "source": [
    "### A. Load Dataset"
   ]
  },
  {
   "cell_type": "code",
   "execution_count": 2,
   "metadata": {},
   "outputs": [],
   "source": [
    "dataset = load_dataset(\"csv\", data_files=\"data/data_prepared.csv\")\n",
    "train_test_split = dataset[\"train\"].train_test_split(test_size=0.2)\n",
    "train_dataset = train_test_split[\"train\"]\n",
    "test_dataset = train_test_split[\"test\"]"
   ]
  },
  {
   "cell_type": "markdown",
   "metadata": {},
   "source": [
    "### B. Tokenize Data\n"
   ]
  },
  {
   "cell_type": "code",
   "execution_count": 3,
   "metadata": {},
   "outputs": [
    {
     "name": "stderr",
     "output_type": "stream",
     "text": [
      "c:\\Users\\gray-owl\\My Drive\\Studies\\fsbm\\s6\\PFE\\code\\env\\Lib\\site-packages\\huggingface_hub\\file_download.py:144: UserWarning: `huggingface_hub` cache-system uses symlinks by default to efficiently store duplicated files but your machine does not support them in C:\\Users\\gray-owl\\.cache\\huggingface\\hub\\models--t5-small. Caching files will still work but in a degraded version that might require more space on your disk. This warning can be disabled by setting the `HF_HUB_DISABLE_SYMLINKS_WARNING` environment variable. For more details, see https://huggingface.co/docs/huggingface_hub/how-to-cache#limitations.\n",
      "To support symlinks on Windows, you either need to activate Developer Mode or to run Python as an administrator. In order to activate developer mode, see this article: https://docs.microsoft.com/en-us/windows/apps/get-started/enable-your-device-for-development\n",
      "  warnings.warn(message)\n",
      "You are using the default legacy behaviour of the <class 'transformers.models.t5.tokenization_t5.T5Tokenizer'>. This is expected, and simply means that the `legacy` (previous) behavior will be used so nothing changes for you. If you want to use the new behaviour, set `legacy=False`. This should only be set if you understand what it means, and thoroughly read the reason why this was added as explained in https://github.com/huggingface/transformers/pull/24565\n",
      "Map:   0%|          | 0/2916 [00:00<?, ? examples/s]c:\\Users\\gray-owl\\My Drive\\Studies\\fsbm\\s6\\PFE\\code\\env\\Lib\\site-packages\\transformers\\tokenization_utils_base.py:3980: UserWarning: `as_target_tokenizer` is deprecated and will be removed in v5 of Transformers. You can tokenize your labels by using the argument `text_target` of the regular `__call__` method (either in the same call as your input texts if you use the same keyword arguments, or in a separate call.\n",
      "  warnings.warn(\n",
      "Map: 100%|██████████| 2916/2916 [00:02<00:00, 1376.12 examples/s]\n",
      "Map: 100%|██████████| 729/729 [00:00<00:00, 1440.60 examples/s]\n"
     ]
    }
   ],
   "source": [
    "from transformers import T5Tokenizer\n",
    "\n",
    "tokenizer = T5Tokenizer.from_pretrained(\"t5-small\")\n",
    "\n",
    "\n",
    "def tokenize_function(examples):\n",
    "    model_inputs = tokenizer(\n",
    "        examples[\"input\"],\n",
    "        max_length=128,\n",
    "        truncation=True,\n",
    "        padding=\"max_length\"\n",
    "    )\n",
    "    with tokenizer.as_target_tokenizer():\n",
    "        labels = tokenizer(\n",
    "            examples[\"output\"],\n",
    "            max_length=128,\n",
    "            truncation=True,\n",
    "            padding=\"max_length\"\n",
    "        )\n",
    "    model_inputs[\"labels\"] = labels[\"input_ids\"]\n",
    "    return model_inputs\n",
    "\n",
    "\n",
    "tokenized_train = train_dataset.map(tokenize_function, batched=True)\n",
    "tokenized_test = test_dataset.map(tokenize_function, batched=True)"
   ]
  },
  {
   "cell_type": "markdown",
   "metadata": {},
   "source": [
    "### C. Fine-Tune T5"
   ]
  },
  {
   "cell_type": "code",
   "execution_count": 5,
   "metadata": {},
   "outputs": [
    {
     "name": "stderr",
     "output_type": "stream",
     "text": [
      "Passing a tuple of `past_key_values` is deprecated and will be removed in Transformers v4.48.0. You should pass an instance of `EncoderDecoderCache` instead, e.g. `past_key_values=EncoderDecoderCache.from_legacy_cache(past_key_values)`.\n"
     ]
    },
    {
     "data": {
      "text/html": [
       "\n",
       "    <div>\n",
       "      \n",
       "      <progress value='2187' max='2187' style='width:300px; height:20px; vertical-align: middle;'></progress>\n",
       "      [2187/2187 1:27:04, Epoch 3/3]\n",
       "    </div>\n",
       "    <table border=\"1\" class=\"dataframe\">\n",
       "  <thead>\n",
       " <tr style=\"text-align: left;\">\n",
       "      <th>Step</th>\n",
       "      <th>Training Loss</th>\n",
       "      <th>Validation Loss</th>\n",
       "    </tr>\n",
       "  </thead>\n",
       "  <tbody>\n",
       "    <tr>\n",
       "      <td>500</td>\n",
       "      <td>2.650000</td>\n",
       "      <td>2.333401</td>\n",
       "    </tr>\n",
       "    <tr>\n",
       "      <td>1000</td>\n",
       "      <td>2.471100</td>\n",
       "      <td>2.244147</td>\n",
       "    </tr>\n",
       "    <tr>\n",
       "      <td>1500</td>\n",
       "      <td>2.313800</td>\n",
       "      <td>2.206188</td>\n",
       "    </tr>\n",
       "    <tr>\n",
       "      <td>2000</td>\n",
       "      <td>2.497900</td>\n",
       "      <td>2.191746</td>\n",
       "    </tr>\n",
       "  </tbody>\n",
       "</table><p>"
      ],
      "text/plain": [
       "<IPython.core.display.HTML object>"
      ]
     },
     "metadata": {},
     "output_type": "display_data"
    },
    {
     "data": {
      "text/plain": [
       "TrainOutput(global_step=2187, training_loss=2.5726236658222774, metrics={'train_runtime': 5226.8001, 'train_samples_per_second': 1.674, 'train_steps_per_second': 0.418, 'total_flos': 295992519819264.0, 'train_loss': 2.5726236658222774, 'epoch': 3.0})"
      ]
     },
     "execution_count": 5,
     "metadata": {},
     "output_type": "execute_result"
    }
   ],
   "source": [
    "from transformers import T5ForConditionalGeneration, Trainer, TrainingArguments\n",
    "\n",
    "model = T5ForConditionalGeneration.from_pretrained(\"t5-small\")\n",
    "\n",
    "training_args = TrainingArguments(\n",
    "    output_dir=\"./t5-product-description\",\n",
    "    per_device_train_batch_size=4,\n",
    "    num_train_epochs=3,\n",
    "    save_steps=10_000,\n",
    "    save_total_limit=2,\n",
    "    logging_dir=\"./logs\",\n",
    "    logging_steps=100,\n",
    "    eval_strategy=\"steps\",\n",
    "    eval_steps=500,\n",
    ")\n",
    "\n",
    "trainer = Trainer(\n",
    "    model=model,\n",
    "    args=training_args,\n",
    "    train_dataset=tokenized_train,\n",
    "    eval_dataset=tokenized_test,\n",
    ")\n",
    "\n",
    "trainer.train()"
   ]
  },
  {
   "cell_type": "markdown",
   "metadata": {},
   "source": [
    "### Step 4: Generate Descriptions"
   ]
  },
  {
   "cell_type": "code",
   "execution_count": 9,
   "metadata": {},
   "outputs": [
    {
     "name": "stdout",
     "output_type": "stream",
     "text": [
      "The X-Distances of the X-Distances: The X-Distances of the X-Distances and the X-Distances of the X-Distances of the X-Districts. The X-Distances of the X-Distances of the X-Distances of the X-Distances of the X-Distances of the X-D\n"
     ]
    }
   ],
   "source": [
    "def generate_description(input_text):\n",
    "    input_ids = tokenizer.encode(input_text, return_tensors=\"pt\")\n",
    "    output = model.generate(input_ids, max_length=128)\n",
    "    return tokenizer.decode(output[0], skip_special_tokens=True)\n",
    "\n",
    "\n",
    "# Example\n",
    "input_text = \"Style: Industrial | Material: Metal | Color: Gray | Dimensions: 30L x 20W x 15H\"\n",
    "print(generate_description(input_text))"
   ]
  },
  {
   "cell_type": "markdown",
   "metadata": {},
   "source": [
    "# Key Considerations\n",
    "1. Data Quality:\n",
    "\n",
    "    - Ensure your input-output pairs are clean and consistent.\n",
    "    - Augment data if the dataset is small (e.g., paraphrasing).\n",
    "\n",
    "1. Model Size:\n",
    "\n",
    "    - t5-small (fast but less accurate) → Good for testing.\n",
    "    - t5-base or t5-large → Better results (requires more GPU RAM).\n",
    "\n",
    "1. Hyperparameters:\n",
    "\n",
    "    - Adjust num_train_epochs (3–10) and batch_size based on GPU.\n",
    "    - Use learning_rate=3e-5 for smoother training.\n",
    "\n",
    "1. Deployment:\n",
    "\n",
    "    - Save the fine-tuned model:\n",
    "\n",
    "        ```py\n",
    "        model.save_pretrained(\"./fine-tuned-t5\")\n",
    "        tokenizer.save_pretrained(\"./fine-tuned-t5\")\n",
    "        ````"
   ]
  },
  {
   "cell_type": "markdown",
   "metadata": {},
   "source": [
    "### Step 5: Save model"
   ]
  },
  {
   "cell_type": "code",
   "execution_count": null,
   "metadata": {},
   "outputs": [],
   "source": [
    "model.save_pretrained(\"./fine-tuned-t5\")\n",
    "tokenizer.save_pretrained(\"./fine-tuned-t5\")"
   ]
  },
  {
   "cell_type": "markdown",
   "metadata": {},
   "source": [
    "### Step 6: Load the model"
   ]
  },
  {
   "cell_type": "code",
   "execution_count": null,
   "metadata": {},
   "outputs": [],
   "source": [
    "from transformers import BartForConditionalGeneration, BartTokenizer\n",
    "\n",
    "model = BartForConditionalGeneration.from_pretrained(\"./fine-tuned-t5\")\n",
    "tokenizer = BartTokenizer.from_pretrained(\"./fine-tuned-t5\")"
   ]
  },
  {
   "cell_type": "code",
   "execution_count": null,
   "metadata": {},
   "outputs": [],
   "source": [
    "from transformers import T5ForConditionalGeneration, T5Tokenizer\n",
    "import torch\n",
    "\n",
    "# Load your fine-tuned T5 model and tokenizer\n",
    "model = T5ForConditionalGeneration.from_pretrained(\"./fine-tuned-t5\")\n",
    "tokenizer = T5Tokenizer.from_pretrained(\"./fine-tuned-t5\")\n",
    "\n",
    "\n",
    "def generate_product_description(input_features, max_length=128, num_beams=4):\n",
    "    \"\"\"\n",
    "    Generate product description from input features using T5\n",
    "    \n",
    "    Args:\n",
    "        input_features (str): Product features in format \"Style:...|Material:...|Color:...\"\n",
    "        max_length (int): Maximum length of generated description\n",
    "        num_beams (int): Number of beams for beam search\n",
    "        \n",
    "    Returns:\n",
    "        str: Generated product description\n",
    "    \"\"\"\n",
    "    # T5 requires a task prefix\n",
    "    input_text = f\"generate product description: {input_features}\"\n",
    "\n",
    "    # Tokenize inputs\n",
    "    inputs = tokenizer(\n",
    "        input_text,\n",
    "        max_length=max_length,\n",
    "        truncation=True,\n",
    "        return_tensors=\"pt\"\n",
    "    )\n",
    "\n",
    "    # Generate description\n",
    "    with torch.no_grad():\n",
    "        outputs = model.generate(\n",
    "            input_ids=inputs[\"input_ids\"],\n",
    "            attention_mask=inputs[\"attention_mask\"],\n",
    "            max_length=max_length,\n",
    "            num_beams=num_beams,\n",
    "            early_stopping=True,\n",
    "            no_repeat_ngram_size=2\n",
    "        )\n",
    "        # outputs = model.generate(\n",
    "        #     ...\n",
    "        #     temperature=0.7,          # More creative (0.7-1.0) vs conservative (0.1-0.3)\n",
    "        #     top_k=50,                 # Sample from top 50 probable tokens\n",
    "        #     top_p=0.95,               # Nucleus sampling threshold\n",
    "        #     do_sample=True            # Enable sampling\n",
    "        # )\n",
    "\n",
    "    # Decode and clean output\n",
    "    description = tokenizer.decode(outputs[0], skip_special_tokens=True)\n",
    "\n",
    "    # Post-processing for T5\n",
    "    description = description.replace(\"<pad>\", \"\").replace(\"</s>\", \"\").strip()\n",
    "    if description.lower().startswith(\"description:\"):\n",
    "        description = description[len(\"description:\"):].strip()\n",
    "\n",
    "    return description.capitalize()\n",
    "\n",
    "\n",
    "# Example usage\n",
    "input_features = \"Style: Industrial | Material: Metal | Color: Gray | Dimensions: 30L x 20W x 15H | Features: Rust-proof\"\n",
    "generated_description = generate_product_description(input_features)\n",
    "\n",
    "print(\"Input Features:\")\n",
    "print(input_features)\n",
    "print(\"\\nGenerated Description:\")\n",
    "print(generated_description)"
   ]
  }
 ],
 "metadata": {
  "kernelspec": {
   "display_name": "env",
   "language": "python",
   "name": "python3"
  },
  "language_info": {
   "codemirror_mode": {
    "name": "ipython",
    "version": 3
   },
   "file_extension": ".py",
   "mimetype": "text/x-python",
   "name": "python",
   "nbconvert_exporter": "python",
   "pygments_lexer": "ipython3",
   "version": "3.12.4"
  }
 },
 "nbformat": 4,
 "nbformat_minor": 2
}

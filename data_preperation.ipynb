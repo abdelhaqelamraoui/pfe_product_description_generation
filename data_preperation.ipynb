{
 "cells": [
  {
   "cell_type": "markdown",
   "metadata": {},
   "source": [
    "## Imports"
   ]
  },
  {
   "cell_type": "code",
   "execution_count": 1,
   "metadata": {},
   "outputs": [],
   "source": [
    "import pandas as pd\n",
    "import numpy as np\n",
    "import matplotlib.pyplot as plt\n",
    "import seaborn as sns\n",
    "import missingno as msno\n",
    "import re"
   ]
  },
  {
   "cell_type": "code",
   "execution_count": 2,
   "metadata": {},
   "outputs": [],
   "source": [
    "df = pd.read_csv('./data/data_cleaned.csv')"
   ]
  },
  {
   "cell_type": "code",
   "execution_count": 7,
   "metadata": {},
   "outputs": [
    {
     "data": {
      "text/html": [
       "<div>\n",
       "<style scoped>\n",
       "    .dataframe tbody tr th:only-of-type {\n",
       "        vertical-align: middle;\n",
       "    }\n",
       "\n",
       "    .dataframe tbody tr th {\n",
       "        vertical-align: top;\n",
       "    }\n",
       "\n",
       "    .dataframe thead th {\n",
       "        text-align: right;\n",
       "    }\n",
       "</style>\n",
       "<table border=\"1\" class=\"dataframe\">\n",
       "  <thead>\n",
       "    <tr style=\"text-align: right;\">\n",
       "      <th></th>\n",
       "      <th>Description</th>\n",
       "      <th>Style</th>\n",
       "      <th>Material</th>\n",
       "      <th>Finish</th>\n",
       "      <th>Assembly</th>\n",
       "      <th>Color</th>\n",
       "      <th>Product Features</th>\n",
       "      <th>Dimensions</th>\n",
       "    </tr>\n",
       "  </thead>\n",
       "  <tbody>\n",
       "    <tr>\n",
       "      <th>364</th>\n",
       "      <td>This modern home office chair blends sleek des...</td>\n",
       "      <td>Industrial,\\n                                M...</td>\n",
       "      <td>steel</td>\n",
       "      <td>steel</td>\n",
       "      <td>Assembly Required</td>\n",
       "      <td>Black,\\n                                Green,...</td>\n",
       "      <td>ergonomic</td>\n",
       "      <td>28.0 In. L X 25.0 In. W X 38.5 In. H</td>\n",
       "    </tr>\n",
       "  </tbody>\n",
       "</table>\n",
       "</div>"
      ],
      "text/plain": [
       "                                           Description  \\\n",
       "364  This modern home office chair blends sleek des...   \n",
       "\n",
       "                                                 Style Material Finish  \\\n",
       "364  Industrial,\\n                                M...    steel  steel   \n",
       "\n",
       "              Assembly                                              Color  \\\n",
       "364  Assembly Required  Black,\\n                                Green,...   \n",
       "\n",
       "    Product Features                            Dimensions  \n",
       "364        ergonomic  28.0 In. L X 25.0 In. W X 38.5 In. H  "
      ]
     },
     "execution_count": 7,
     "metadata": {},
     "output_type": "execute_result"
    }
   ],
   "source": [
    "df.sample(1)"
   ]
  },
  {
   "cell_type": "code",
   "execution_count": 8,
   "metadata": {},
   "outputs": [
    {
     "data": {
      "text/html": [
       "<div>\n",
       "<style scoped>\n",
       "    .dataframe tbody tr th:only-of-type {\n",
       "        vertical-align: middle;\n",
       "    }\n",
       "\n",
       "    .dataframe tbody tr th {\n",
       "        vertical-align: top;\n",
       "    }\n",
       "\n",
       "    .dataframe thead th {\n",
       "        text-align: right;\n",
       "    }\n",
       "</style>\n",
       "<table border=\"1\" class=\"dataframe\">\n",
       "  <thead>\n",
       "    <tr style=\"text-align: right;\">\n",
       "      <th></th>\n",
       "      <th>input</th>\n",
       "      <th>output</th>\n",
       "    </tr>\n",
       "  </thead>\n",
       "  <tbody>\n",
       "    <tr>\n",
       "      <th>0</th>\n",
       "      <td>Style: industrial | Material: wood | Finish: r...</td>\n",
       "      <td>Expertly crafted, this console table featuring...</td>\n",
       "    </tr>\n",
       "    <tr>\n",
       "      <th>1</th>\n",
       "      <td>Style: Modern &amp; Contemporary | Material: wood ...</td>\n",
       "      <td>Add even more organization to your ample Famil...</td>\n",
       "    </tr>\n",
       "    <tr>\n",
       "      <th>2</th>\n",
       "      <td>Style: Modern &amp; Contemporary | Material: wood ...</td>\n",
       "      <td>The Boyd Sleep Lugano Platform Bed Frame is a ...</td>\n",
       "    </tr>\n",
       "    <tr>\n",
       "      <th>3</th>\n",
       "      <td>Style: french | Material: Mahogany | Finish: H...</td>\n",
       "      <td>Introducing the Nova Bench. This bench comes f...</td>\n",
       "    </tr>\n",
       "    <tr>\n",
       "      <th>4</th>\n",
       "      <td>Style: Modern &amp; Contemporary | Material: uphol...</td>\n",
       "      <td>Surround your dining space with a set of dinin...</td>\n",
       "    </tr>\n",
       "  </tbody>\n",
       "</table>\n",
       "</div>"
      ],
      "text/plain": [
       "                                               input  \\\n",
       "0  Style: industrial | Material: wood | Finish: r...   \n",
       "1  Style: Modern & Contemporary | Material: wood ...   \n",
       "2  Style: Modern & Contemporary | Material: wood ...   \n",
       "3  Style: french | Material: Mahogany | Finish: H...   \n",
       "4  Style: Modern & Contemporary | Material: uphol...   \n",
       "\n",
       "                                              output  \n",
       "0  Expertly crafted, this console table featuring...  \n",
       "1  Add even more organization to your ample Famil...  \n",
       "2  The Boyd Sleep Lugano Platform Bed Frame is a ...  \n",
       "3  Introducing the Nova Bench. This bench comes f...  \n",
       "4  Surround your dining space with a set of dinin...  "
      ]
     },
     "execution_count": 8,
     "metadata": {},
     "output_type": "execute_result"
    }
   ],
   "source": [
    "df_out = pd.DataFrame()\n",
    "\n",
    "input_columns = df.columns.tolist()\n",
    "input_columns.remove(\"Description\")\n",
    "output_column = \"Description\"\n",
    "\n",
    "def join_attr(row):\n",
    "    return \" | \".join([f\"{col}: {row[col]}\" for col in input_columns])\n",
    "\n",
    "df_out[\"input\"] = df[input_columns].apply(lambda row: join_attr(row), axis=1)\n",
    "df_out[\"output\"] = df[output_column]\n",
    "\n",
    "df_out.to_csv(\"data/data_prepared.csv\", index=False)\n",
    "\n",
    "df_out.head()"
   ]
  }
 ],
 "metadata": {
  "kernelspec": {
   "display_name": "env",
   "language": "python",
   "name": "python3"
  },
  "language_info": {
   "codemirror_mode": {
    "name": "ipython",
    "version": 3
   },
   "file_extension": ".py",
   "mimetype": "text/x-python",
   "name": "python",
   "nbconvert_exporter": "python",
   "pygments_lexer": "ipython3",
   "version": "3.12.4"
  }
 },
 "nbformat": 4,
 "nbformat_minor": 2
}

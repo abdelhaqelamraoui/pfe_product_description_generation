{
 "cells": [
  {
   "cell_type": "markdown",
   "metadata": {},
   "source": [
    "## Imports"
   ]
  },
  {
   "cell_type": "code",
   "execution_count": 1,
   "metadata": {},
   "outputs": [],
   "source": [
    "import pandas as pd\n",
    "import numpy as np\n",
    "import matplotlib.pyplot as plt\n",
    "import seaborn as sns\n",
    "import missingno as msno\n",
    "import re"
   ]
  },
  {
   "cell_type": "code",
   "execution_count": 2,
   "metadata": {},
   "outputs": [],
   "source": [
    "df = pd.read_csv('./data/data_cleaned.csv')"
   ]
  },
  {
   "cell_type": "code",
   "execution_count": 43,
   "metadata": {},
   "outputs": [
    {
     "data": {
      "text/html": [
       "<div>\n",
       "<style scoped>\n",
       "    .dataframe tbody tr th:only-of-type {\n",
       "        vertical-align: middle;\n",
       "    }\n",
       "\n",
       "    .dataframe tbody tr th {\n",
       "        vertical-align: top;\n",
       "    }\n",
       "\n",
       "    .dataframe thead th {\n",
       "        text-align: right;\n",
       "    }\n",
       "</style>\n",
       "<table border=\"1\" class=\"dataframe\">\n",
       "  <thead>\n",
       "    <tr style=\"text-align: right;\">\n",
       "      <th></th>\n",
       "      <th>Description</th>\n",
       "      <th>Style</th>\n",
       "      <th>Material</th>\n",
       "      <th>Finish</th>\n",
       "      <th>Assembly</th>\n",
       "      <th>Color</th>\n",
       "      <th>Product Features</th>\n",
       "      <th>Dimensions</th>\n",
       "      <th>Warranty</th>\n",
       "    </tr>\n",
       "  </thead>\n",
       "  <tbody>\n",
       "    <tr>\n",
       "      <th>719</th>\n",
       "      <td>Dress up your bedroom with this elegantly desi...</td>\n",
       "      <td>Modern &amp; Contemporary</td>\n",
       "      <td>Iron, Velvet</td>\n",
       "      <td>Metal Finish</td>\n",
       "      <td>Assembly Required</td>\n",
       "      <td>Black, Blue, Grey</td>\n",
       "      <td>Adjustable Height, Tufted</td>\n",
       "      <td>See Description</td>\n",
       "      <td>30 day Limited Manufacturer</td>\n",
       "    </tr>\n",
       "  </tbody>\n",
       "</table>\n",
       "</div>"
      ],
      "text/plain": [
       "                                           Description                  Style  \\\n",
       "719  Dress up your bedroom with this elegantly desi...  Modern & Contemporary   \n",
       "\n",
       "         Material        Finish           Assembly              Color  \\\n",
       "719  Iron, Velvet  Metal Finish  Assembly Required  Black, Blue, Grey   \n",
       "\n",
       "              Product Features       Dimensions                     Warranty  \n",
       "719  Adjustable Height, Tufted  See Description  30 day Limited Manufacturer  "
      ]
     },
     "execution_count": 43,
     "metadata": {},
     "output_type": "execute_result"
    }
   ],
   "source": [
    "df.sample(1)"
   ]
  },
  {
   "cell_type": "code",
   "execution_count": 3,
   "metadata": {},
   "outputs": [
    {
     "data": {
      "text/html": [
       "<div>\n",
       "<style scoped>\n",
       "    .dataframe tbody tr th:only-of-type {\n",
       "        vertical-align: middle;\n",
       "    }\n",
       "\n",
       "    .dataframe tbody tr th {\n",
       "        vertical-align: top;\n",
       "    }\n",
       "\n",
       "    .dataframe thead th {\n",
       "        text-align: right;\n",
       "    }\n",
       "</style>\n",
       "<table border=\"1\" class=\"dataframe\">\n",
       "  <thead>\n",
       "    <tr style=\"text-align: right;\">\n",
       "      <th></th>\n",
       "      <th>input</th>\n",
       "      <th>output</th>\n",
       "    </tr>\n",
       "  </thead>\n",
       "  <tbody>\n",
       "    <tr>\n",
       "      <th>0</th>\n",
       "      <td>Style: Industrial, Modern &amp; Contemporary | Mat...</td>\n",
       "      <td>Expertly crafted, this console table featuring...</td>\n",
       "    </tr>\n",
       "    <tr>\n",
       "      <th>1</th>\n",
       "      <td>Style: Modern &amp; Contemporary | Material: Pine,...</td>\n",
       "      <td>Add even more organization to your ample Famil...</td>\n",
       "    </tr>\n",
       "    <tr>\n",
       "      <th>2</th>\n",
       "      <td>Style: Modern &amp; Contemporary | Material: Wood ...</td>\n",
       "      <td>The Boyd Sleep Lugano Platform Bed Frame is a ...</td>\n",
       "    </tr>\n",
       "    <tr>\n",
       "      <th>3</th>\n",
       "      <td>Style: Transitional | Material: Mahogany | Fin...</td>\n",
       "      <td>Introducing the Nova Bench. This bench comes f...</td>\n",
       "    </tr>\n",
       "    <tr>\n",
       "      <th>4</th>\n",
       "      <td>Style: Modern &amp; Contemporary | Material: Leath...</td>\n",
       "      <td>Surround your dining space with a set of dinin...</td>\n",
       "    </tr>\n",
       "  </tbody>\n",
       "</table>\n",
       "</div>"
      ],
      "text/plain": [
       "                                               input  \\\n",
       "0  Style: Industrial, Modern & Contemporary | Mat...   \n",
       "1  Style: Modern & Contemporary | Material: Pine,...   \n",
       "2  Style: Modern & Contemporary | Material: Wood ...   \n",
       "3  Style: Transitional | Material: Mahogany | Fin...   \n",
       "4  Style: Modern & Contemporary | Material: Leath...   \n",
       "\n",
       "                                              output  \n",
       "0  Expertly crafted, this console table featuring...  \n",
       "1  Add even more organization to your ample Famil...  \n",
       "2  The Boyd Sleep Lugano Platform Bed Frame is a ...  \n",
       "3  Introducing the Nova Bench. This bench comes f...  \n",
       "4  Surround your dining space with a set of dinin...  "
      ]
     },
     "execution_count": 3,
     "metadata": {},
     "output_type": "execute_result"
    }
   ],
   "source": [
    "df_out = pd.DataFrame()\n",
    "\n",
    "input_columns = df.columns.tolist()\n",
    "input_columns.remove(\"Description\")\n",
    "output_column = \"Description\"\n",
    "\n",
    "def join_attr(row):\n",
    "    return \" | \".join([f\"{col}: {row[col]}\" for col in input_columns])\n",
    "\n",
    "df_out[\"input\"] = df[input_columns].apply(lambda row: join_attr(row), axis=1)\n",
    "df_out[\"output\"] = df[output_column]\n",
    "\n",
    "df_out.to_csv(\"data/data_prepared.csv\", index=False)\n",
    "\n",
    "df_out.head()"
   ]
  }
 ],
 "metadata": {
  "kernelspec": {
   "display_name": "env",
   "language": "python",
   "name": "python3"
  },
  "language_info": {
   "codemirror_mode": {
    "name": "ipython",
    "version": 3
   },
   "file_extension": ".py",
   "mimetype": "text/x-python",
   "name": "python",
   "nbconvert_exporter": "python",
   "pygments_lexer": "ipython3",
   "version": "3.12.4"
  }
 },
 "nbformat": 4,
 "nbformat_minor": 2
}

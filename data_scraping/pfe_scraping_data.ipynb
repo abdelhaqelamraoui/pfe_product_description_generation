{
 "cells": [
  {
   "cell_type": "code",
   "execution_count": null,
   "metadata": {},
   "outputs": [
    {
     "ename": "",
     "evalue": "",
     "output_type": "error",
     "traceback": [
      "\u001b[1;31mFailed to start the Kernel. \n",
      "\u001b[1;31mUnable to start Kernel 'Python 3.12.4' due to a timeout waiting for the ports to get used. \n",
      "\u001b[1;31mView Jupyter <a href='command:jupyter.viewOutput'>log</a> for further details."
     ]
    }
   ],
   "source": [
    "import requests\n",
    "from bs4 import BeautifulSoup\n",
    "import json\n",
    "\n",
    "\n",
    "def scrape_bestbuy_ca_product(url):\n",
    "    headers = {\n",
    "        \"User-Agent\": \"Mozilla/5.0 (Windows NT 10.0; Win64; x64)\"\n",
    "    }\n",
    "    response = requests.get(url, headers=headers)\n",
    "    soup = BeautifulSoup(response.text, \"html.parser\")\n",
    "\n",
    "    # Extract title\n",
    "    title_tag = soup.find(\"h1\")\n",
    "    title = title_tag.get_text(strip=True) if title_tag else \"N/A\"\n",
    "\n",
    "    # Extract short description from the meta tag\n",
    "    description_tag = soup.find(\"meta\", {\"name\": \"description\"})\n",
    "    description = description_tag[\"content\"] if description_tag else \"N/A\"\n",
    "\n",
    "    # Extract embedded JSON from <script type=\"application/ld+json\">\n",
    "    specs = {}\n",
    "    for script in soup.find_all(\"script\", type=\"application/ld+json\"):\n",
    "        try:\n",
    "            data = json.loads(script.string.strip())\n",
    "            if isinstance(data, dict) and data.get(\"@type\") == \"Product\":\n",
    "                specs = {\n",
    "                    \"brand\": data.get(\"brand\", {}).get(\"name\", \"\"),\n",
    "                    \"sku\": data.get(\"sku\", \"\"),\n",
    "                    \"name\": data.get(\"name\", \"\"),\n",
    "                    \"category\": data.get(\"category\", \"\"),\n",
    "                }\n",
    "        except Exception:\n",
    "            continue\n",
    "\n",
    "    return {\n",
    "        \"title\": title,\n",
    "        \"description\": description,\n",
    "        \"specifications\": specs\n",
    "    }\n",
    "\n",
    "\n",
    "# Example usage\n",
    "url = \"https://www.bestbuy.ca/en-ca/product/google-pixel-9a-128gb-obsidian-unlocked/18933640\"\n",
    "data = scrape_bestbuy_ca_product(url)\n",
    "print(json.dumps(data, indent=2))"
   ]
  },
  {
   "cell_type": "code",
   "execution_count": null,
   "metadata": {},
   "outputs": [
    {
     "ename": "",
     "evalue": "",
     "output_type": "error",
     "traceback": [
      "\u001b[1;31mFailed to start the Kernel. \n",
      "\u001b[1;31mUnable to start Kernel 'Python 3.12.4' due to a timeout waiting for the ports to get used. \n",
      "\u001b[1;31mView Jupyter <a href='command:jupyter.viewOutput'>log</a> for further details."
     ]
    }
   ],
   "source": [
    "import requests\n",
    "from bs4 import BeautifulSoup\n",
    "import json\n",
    "\n",
    "def scrape_bestbuy_ca_characteristics(url):\n",
    "    headers = {\n",
    "        \"User-Agent\": \"Mozilla/5.0 (Windows NT 10.0; Win64; x64)\"\n",
    "    }\n",
    "    response = requests.get(url, headers=headers)\n",
    "    soup = BeautifulSoup(response.text, \"html.parser\")\n",
    "\n",
    "    # Extract product title\n",
    "    title_tag = soup.find(\"h1\")\n",
    "    title = title_tag.get_text(strip=True) if title_tag else \"N/A\"\n",
    "\n",
    "    # Extract meta description\n",
    "    meta_desc = soup.find(\"meta\", {\"name\": \"description\"})\n",
    "    description = meta_desc[\"content\"] if meta_desc else \"N/A\"\n",
    "\n",
    "    # Extract specs from JSON inside script#__NEXT_DATA__\n",
    "    script_tag = soup.find(\"script\", {\"id\": \"__NEXT_DATA__\"})\n",
    "    specs = {}\n",
    "    if script_tag:\n",
    "        try:\n",
    "            json_data = json.loads(script_tag.string)\n",
    "            # Navigate through the JSON structure to get characteristics\n",
    "            product_info = json_data[\"props\"][\"pageProps\"][\"product\"]\n",
    "            specifications = product_info.get(\"details\", {}).get(\"features\", [])\n",
    "            \n",
    "            for spec_group in specifications:\n",
    "                group_title = spec_group.get(\"title\", \"General\")\n",
    "                for feature in spec_group.get(\"features\", []):\n",
    "                    label = feature.get(\"featureName\")\n",
    "                    value = feature.get(\"featureValue\")\n",
    "                    if label and value:\n",
    "                        specs[label] = value\n",
    "        except Exception as e:\n",
    "            print(f\"Failed to parse specs: {e}\")\n",
    "\n",
    "    return {\n",
    "        \"title\": title,\n",
    "        \"description\": description,\n",
    "        \"specifications\": specs\n",
    "    }\n",
    "\n",
    "# Example usage\n",
    "url = \"https://www.bestbuy.ca/en-ca/product/google-pixel-9a-128gb-obsidian-unlocked/18933640\"\n",
    "product_data = scrape_bestbuy_ca_characteristics(url)\n",
    "print(json.dumps(product_data, indent=2))\n"
   ]
  }
 ],
 "metadata": {
  "kernelspec": {
   "display_name": "Python 3",
   "language": "python",
   "name": "python3"
  },
  "language_info": {
   "codemirror_mode": {
    "name": "ipython",
    "version": 3
   },
   "file_extension": ".py",
   "mimetype": "text/x-python",
   "name": "python",
   "nbconvert_exporter": "python",
   "pygments_lexer": "ipython3",
   "version": "3.12.4"
  }
 },
 "nbformat": 4,
 "nbformat_minor": 2
}
